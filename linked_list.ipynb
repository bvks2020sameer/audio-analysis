{
  "nbformat": 4,
  "nbformat_minor": 0,
  "metadata": {
    "colab": {
      "name": "linked_list.ipynb",
      "provenance": [],
      "authorship_tag": "ABX9TyNmyjUK3LEmfB2whBFdY6hP",
      "include_colab_link": true
    },
    "kernelspec": {
      "name": "python3",
      "display_name": "Python 3"
    },
    "language_info": {
      "name": "python"
    }
  },
  "cells": [
    {
      "cell_type": "markdown",
      "metadata": {
        "id": "view-in-github",
        "colab_type": "text"
      },
      "source": [
        "<a href=\"https://colab.research.google.com/github/bvks2020sameer/audio-analysis/blob/main/linked_list.ipynb\" target=\"_parent\"><img src=\"https://colab.research.google.com/assets/colab-badge.svg\" alt=\"Open In Colab\"/></a>"
      ]
    },
    {
      "cell_type": "markdown",
      "source": [
        "**Node** *(Can be customisable)*"
      ],
      "metadata": {
        "id": "NnnnVKew44hU"
      }
    },
    {
      "cell_type": "code",
      "source": [
        "class node(object):\n",
        "  def __init__(self,data):\n",
        "    self.data = data\n",
        "    self.next = None\n",
        "  def user_data(self,data,name,memo):\n",
        "    pass"
      ],
      "metadata": {
        "id": "Ae5u2K1A4NXr"
      },
      "execution_count": null,
      "outputs": []
    },
    {
      "cell_type": "markdown",
      "source": [
        "**Linked List Maker** *(TOUCH this Responsiblely)*"
      ],
      "metadata": {
        "id": "nXdWSz0Q4zAV"
      }
    },
    {
      "cell_type": "code",
      "source": [
        "class llist(object):\n",
        "  def __init__(self):\n",
        "    self.head = None\n",
        "  def add_node(self,newnode):\n",
        "    if self.head == None :\n",
        "      self.head = newnode\n",
        "    else :\n",
        "      lastnode = self.head\n",
        "      while True :\n",
        "        if lastnode.next == None:\n",
        "          break\n",
        "        lastnode = lastnode.next\n",
        "      lastnode.next = newnode\n",
        "        \n",
        "#YOU CAN *CUSTOMISE*  BELOW THIS LINE\n",
        "\n",
        "  def print_list(self):\n",
        "    key = self.head\n",
        "    while True :\n",
        "      if key == None:\n",
        "        break;\n",
        "      print(key.data)\n",
        "      key = key.next\n",
        "\n",
        "\n"
      ],
      "metadata": {
        "id": "XV761xV8QN6h"
      },
      "execution_count": null,
      "outputs": []
    },
    {
      "cell_type": "markdown",
      "source": [
        "\n",
        "**Main Code**"
      ],
      "metadata": {
        "id": "yz0eqy6h6IOI"
      }
    },
    {
      "cell_type": "code",
      "source": [
        "first = node(\"alpha\")\n",
        "second = node(\"beta\")\n",
        "third = node(\"gamma\")\n",
        "k = llist()\n",
        "k.add_node(first)\n",
        "k.add_node(second)\n",
        "k.add_node(third)\n",
        "k.print_list()"
      ],
      "metadata": {
        "id": "FHqiSpx1QkMO"
      },
      "execution_count": null,
      "outputs": []
    }
  ]
}